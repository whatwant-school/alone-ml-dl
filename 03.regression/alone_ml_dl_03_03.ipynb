{
  "nbformat": 4,
  "nbformat_minor": 0,
  "metadata": {
    "colab": {
      "name": "alone-ml-dl-03-03.ipynb",
      "provenance": []
    },
    "kernelspec": {
      "name": "python3",
      "display_name": "Python 3"
    }
  },
  "cells": [
    {
      "cell_type": "code",
      "metadata": {
        "id": "gqq1wOjaxX_M",
        "colab": {
          "base_uri": "https://localhost:8080/"
        },
        "outputId": "ab4da25a-51e6-43dc-dba3-afa1a7113dac"
      },
      "source": [
        "import pandas as pd\r\n",
        "\r\n",
        "df = pd.read_csv('https://bit.ly/perch_csv')\r\n",
        "perch_full = df.to_numpy()\r\n",
        "\r\n",
        "print(perch_full)"
      ],
      "execution_count": 1,
      "outputs": [
        {
          "output_type": "stream",
          "text": [
            "[[ 8.4   2.11  1.41]\n",
            " [13.7   3.53  2.  ]\n",
            " [15.    3.82  2.43]\n",
            " [16.2   4.59  2.63]\n",
            " [17.4   4.59  2.94]\n",
            " [18.    5.22  3.32]\n",
            " [18.7   5.2   3.12]\n",
            " [19.    5.64  3.05]\n",
            " [19.6   5.14  3.04]\n",
            " [20.    5.08  2.77]\n",
            " [21.    5.69  3.56]\n",
            " [21.    5.92  3.31]\n",
            " [21.    5.69  3.67]\n",
            " [21.3   6.38  3.53]\n",
            " [22.    6.11  3.41]\n",
            " [22.    5.64  3.52]\n",
            " [22.    6.11  3.52]\n",
            " [22.    5.88  3.52]\n",
            " [22.    5.52  4.  ]\n",
            " [22.5   5.86  3.62]\n",
            " [22.5   6.79  3.62]\n",
            " [22.7   5.95  3.63]\n",
            " [23.    5.22  3.63]\n",
            " [23.5   6.28  3.72]\n",
            " [24.    7.29  3.72]\n",
            " [24.    6.38  3.82]\n",
            " [24.6   6.73  4.17]\n",
            " [25.    6.44  3.68]\n",
            " [25.6   6.56  4.24]\n",
            " [26.5   7.17  4.14]\n",
            " [27.3   8.32  5.14]\n",
            " [27.5   7.17  4.34]\n",
            " [27.5   7.05  4.34]\n",
            " [27.5   7.28  4.57]\n",
            " [28.    7.82  4.2 ]\n",
            " [28.7   7.59  4.64]\n",
            " [30.    7.62  4.77]\n",
            " [32.8  10.03  6.02]\n",
            " [34.5  10.26  6.39]\n",
            " [35.   11.49  7.8 ]\n",
            " [36.5  10.88  6.86]\n",
            " [36.   10.61  6.74]\n",
            " [37.   10.84  6.26]\n",
            " [37.   10.57  6.37]\n",
            " [39.   11.14  7.49]\n",
            " [39.   11.14  6.  ]\n",
            " [39.   12.43  7.35]\n",
            " [40.   11.93  7.11]\n",
            " [40.   11.73  7.22]\n",
            " [40.   12.38  7.46]\n",
            " [40.   11.14  6.63]\n",
            " [42.   12.8   6.87]\n",
            " [43.   11.93  7.28]\n",
            " [43.   12.51  7.42]\n",
            " [43.5  12.6   8.14]\n",
            " [44.   12.49  7.6 ]]\n"
          ],
          "name": "stdout"
        }
      ]
    },
    {
      "cell_type": "code",
      "metadata": {
        "colab": {
          "base_uri": "https://localhost:8080/"
        },
        "id": "BF6BnIppytw_",
        "outputId": "03a3ad3a-a454-4f33-b44a-4dd562d7a927"
      },
      "source": [
        "from sklearn.preprocessing import PolynomialFeatures\r\n",
        "\r\n",
        "# defree=2\r\n",
        "poly = PolynomialFeatures()\r\n",
        "poly.fit([[2, 3]])\r\n",
        "\r\n",
        "# 1(bias), 2, 3, 2**2, 2*3, 3**2\r\n",
        "# 2, 3은 입력한 그대로, 절편으로 1 추가, 2의 제곱, 3의 제곱, 2와3의 곱\r\n",
        "print(poly.transform([[2, 3]]))"
      ],
      "execution_count": 2,
      "outputs": [
        {
          "output_type": "stream",
          "text": [
            "[[1. 2. 3. 4. 6. 9.]]\n"
          ],
          "name": "stdout"
        }
      ]
    },
    {
      "cell_type": "code",
      "metadata": {
        "colab": {
          "base_uri": "https://localhost:8080/"
        },
        "id": "rKJCdQmszaOe",
        "outputId": "b498bfa3-869e-4d3c-8242-2ab2bf19c2ee"
      },
      "source": [
        "import numpy as np\r\n",
        "\r\n",
        "perch_weight = np.array(\r\n",
        "    [5.9, 32.0, 40.0, 51.5, 70.0, 100.0, 78.0, 80.0, 85.0, 85.0, \r\n",
        "     110.0, 115.0, 125.0, 130.0, 120.0, 120.0, 130.0, 135.0, 110.0, \r\n",
        "     130.0, 150.0, 145.0, 150.0, 170.0, 225.0, 145.0, 188.0, 180.0, \r\n",
        "     197.0, 218.0, 300.0, 260.0, 265.0, 250.0, 250.0, 300.0, 320.0, \r\n",
        "     514.0, 556.0, 840.0, 685.0, 700.0, 700.0, 690.0, 900.0, 650.0, \r\n",
        "     820.0, 850.0, 900.0, 1015.0, 820.0, 1100.0, 1000.0, 1100.0, \r\n",
        "     1000.0, 1000.0]\r\n",
        "     )\r\n",
        "\r\n",
        "from sklearn.model_selection import train_test_split\r\n",
        "\r\n",
        "train_input, test_input, train_target, test_target = train_test_split(perch_full, perch_weight, random_state=42)\r\n",
        "\r\n",
        "# degree = 2\r\n",
        "# 자동으로 절편(가중치) 1값이 추가되는 것을 막기 위해 False\r\n",
        "poly = PolynomialFeatures(include_bias=False)\r\n",
        "\r\n",
        "poly.fit(train_input)\r\n",
        "train_poly = poly.transform(train_input)\r\n",
        "\r\n",
        "# (42, 9) -> 42개의 행이 있다는 것을 알 수 있다.\r\n",
        "print(train_poly.shape)\r\n",
        "\r\n",
        "# 각 항목의 제곱과 항목끼리의 곱으로 구성되었음을 볼 수 있다. (degree=2 이기에?!)\r\n",
        "poly.get_feature_names()\r\n",
        "\r\n",
        "# train을 변환했으면 test도 변환해야 한다.\r\n",
        "test_poly = poly.transform(test_input)\r\n",
        "\r\n",
        "from sklearn.linear_model import LinearRegression\r\n",
        "\r\n",
        "lr = LinearRegression()\r\n",
        "lr.fit(train_poly, train_target)\r\n",
        "\r\n",
        "print(lr.score(train_poly, train_target))\r\n",
        "\r\n",
        "print(lr.score(test_poly, test_target))"
      ],
      "execution_count": 3,
      "outputs": [
        {
          "output_type": "stream",
          "text": [
            "(42, 9)\n",
            "0.9903183436982124\n",
            "0.9714559911594132\n"
          ],
          "name": "stdout"
        }
      ]
    },
    {
      "cell_type": "code",
      "metadata": {
        "id": "QyAIaVlNz8Ay",
        "colab": {
          "base_uri": "https://localhost:8080/"
        },
        "outputId": "93b889c6-a40b-4d23-bc06-8a369654df3f"
      },
      "source": [
        "poly = PolynomialFeatures(degree=5, include_bias=False)\r\n",
        "\r\n",
        "poly.fit(train_input)\r\n",
        "train_poly = poly.transform(train_input)\r\n",
        "test_poly = poly.transform(test_input)\r\n",
        "\r\n",
        "# degree = 5 값을 줬기에 특성이 늘어났다.\r\n",
        "# (42, 55) -> 55개의 특성이 만들어졌다.\r\n",
        "print(train_poly.shape)\r\n",
        "\r\n",
        "lr.fit(train_poly, train_target)\r\n",
        "\r\n",
        "print(lr.score(train_poly, train_target))\r\n",
        "\r\n",
        "# -144.4057..... -> 과대 적합이 되어서 test 결과가 이렇게 나왔다.\r\n",
        "# 42개 데이터 밖에 없는데, 특성이 55개이기에 -144가 나올 수 밖에 없다.\r\n",
        "print(lr.score(test_poly, test_target))"
      ],
      "execution_count": 4,
      "outputs": [
        {
          "output_type": "stream",
          "text": [
            "(42, 55)\n",
            "0.9999999999991096\n",
            "-144.40579242335605\n"
          ],
          "name": "stdout"
        }
      ]
    },
    {
      "cell_type": "code",
      "metadata": {
        "id": "wAl9Q9YLxwsH"
      },
      "source": [
        "from sklearn.preprocessing import StandardScaler\r\n",
        "\r\n",
        "ss = StandardScaler()\r\n",
        "ss.fit(train_poly)\r\n",
        "\r\n",
        "train_scaled = ss.transform(train_poly)\r\n",
        "test_scaled = ss.transform(test_poly)"
      ],
      "execution_count": 5,
      "outputs": []
    },
    {
      "cell_type": "code",
      "metadata": {
        "colab": {
          "base_uri": "https://localhost:8080/"
        },
        "id": "eRWC25S6xz1q",
        "outputId": "1f5dd5c6-3770-4d80-ff09-07fcbecea8d7"
      },
      "source": [
        "from sklearn.linear_model import Ridge\r\n",
        "\r\n",
        "ridge = Ridge()\r\n",
        "ridge.fit(train_scaled, train_target)\r\n",
        "\r\n",
        "print(ridge.score(train_scaled, train_target))\r\n",
        "\r\n",
        "print(ridge.score(test_scaled, test_target))"
      ],
      "execution_count": 6,
      "outputs": [
        {
          "output_type": "stream",
          "text": [
            "0.9896101671037343\n",
            "0.9790693977615398\n"
          ],
          "name": "stdout"
        }
      ]
    },
    {
      "cell_type": "code",
      "metadata": {
        "colab": {
          "base_uri": "https://localhost:8080/",
          "height": 314
        },
        "id": "NSwieM30x25W",
        "outputId": "1a4d1857-8d3d-4e63-e061-c00d9f2ec98e"
      },
      "source": [
        "import matplotlib.pyplot as plt\r\n",
        "\r\n",
        "train_score = []\r\n",
        "test_score = []\r\n",
        "\r\n",
        "alpha_list = [0.001, 0.01, 0.1, 1, 10, 100]\r\n",
        "\r\n",
        "for alpha in alpha_list:\r\n",
        "  ridge = Ridge(alpha=alpha)\r\n",
        "  ridge.fit(train_scaled, train_target)\r\n",
        "  \r\n",
        "  train_score.append(ridge.score(train_scaled, train_target))\r\n",
        "  test_score.append(ridge.score(test_scaled, test_target))\r\n",
        "\r\n",
        "# 그래프 범위를 맞춰주기 위해서 (0.001, 0.01, 0.1 등의 간격은 좁고, 뒷부분은 간격이 넓기에 log 함수로...)\r\n",
        "plt.plot(np.log10(alpha_list), train_score)\r\n",
        "plt.plot(np.log10(alpha_list), test_score)\r\n",
        "plt.xlabel('alpha')\r\n",
        "plt.ylabel('R^2')\r\n",
        "plt.show()\r\n",
        "\r\n",
        "# 그래프 왼쪽은 과대 적합, 오른쪽은 과서 적합\r\n",
        "\r\n",
        "ridge = Ridge(alpha=0.1)\r\n",
        "ridge.fit(train_scaled, train_target)\r\n",
        "  \r\n",
        "print(ridge.score(train_scaled, train_target))\r\n",
        "print(ridge.score(test_scaled, test_target))"
      ],
      "execution_count": 7,
      "outputs": [
        {
          "output_type": "display_data",
          "data": {
            "image/png": "[encoded data removed]",
            "text/plain": [
              "<Figure size 432x288 with 1 Axes>"
            ]
          },
          "metadata": {
            "tags": [],
            "needs_background": "light"
          }
        },
        {
          "output_type": "stream",
          "text": [
            "0.9903815817570366\n",
            "0.9827976465386927\n"
          ],
          "name": "stdout"
        }
      ]
    },
    {
      "cell_type": "code",
      "metadata": {
        "id": "SAkzGrbHyRjc",
        "colab": {
          "base_uri": "https://localhost:8080/"
        },
        "outputId": "fc9646fa-a14d-4f1f-dbde-feb791e77644"
      },
      "source": [
        "from sklearn.linear_model import Lasso\r\n",
        "\r\n",
        "lasso = Lasso()\r\n",
        "lasso.fit(train_scaled, train_target)\r\n",
        "  \r\n",
        "print(lasso.score(train_scaled, train_target))\r\n",
        "print(lasso.score(test_scaled, test_target))\r\n",
        "\r\n",
        "# alpha\r\n",
        "lasso = Lasso(alpha=10)\r\n",
        "lasso.fit(train_scaled, train_target)\r\n",
        "  \r\n",
        "print(lasso.score(train_scaled, train_target))\r\n",
        "print(lasso.score(test_scaled, test_target))\r\n",
        "\r\n",
        "# 55개 특성을 넣었는데, 40개를 사용하지 않는다는 것을 알 수 있다\r\n",
        "# 특성x가중치 인데, 가중치를 0으로 준다는 것은 특성을 사용하지 않는다는 것\r\n",
        "print(np.sum(lasso.coef_ == 0))"
      ],
      "execution_count": 8,
      "outputs": [
        {
          "output_type": "stream",
          "text": [
            "0.9897898972080961\n",
            "0.9800593698421883\n",
            "0.9888067471131867\n",
            "0.9824470598706695\n",
            "40\n"
          ],
          "name": "stdout"
        }
      ]
    }
  ]
}